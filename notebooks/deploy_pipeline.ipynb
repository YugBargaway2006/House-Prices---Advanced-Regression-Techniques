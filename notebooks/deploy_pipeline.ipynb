{
 "cells": [
  {
   "cell_type": "code",
   "execution_count": 2,
   "id": "b06d1e5b",
   "metadata": {},
   "outputs": [],
   "source": [
    "import pickle\n",
    "import numpy as np\n",
    "import pandas as pd"
   ]
  },
  {
   "cell_type": "code",
   "execution_count": 5,
   "id": "0f2e8792",
   "metadata": {},
   "outputs": [],
   "source": [
    "def cap_outliers(X):\n",
    "    X = X.copy()\n",
    "    for i in range(X.shape[1]):\n",
    "        col = X[:, i]\n",
    "        percentile25 = np.percentile(col, 25)\n",
    "        percentile75 = np.percentile(col, 75)\n",
    "        iqr = percentile75 - percentile25\n",
    "\n",
    "        upper_limit = percentile75 + 2 * iqr\n",
    "        lower_limit = percentile25 - 2 * iqr\n",
    "\n",
    "        col = np.where(col > upper_limit, upper_limit,\n",
    "                       np.where(col < lower_limit, lower_limit, col))\n",
    "        X[:, i] = col\n",
    "    return X\n"
   ]
  },
  {
   "cell_type": "code",
   "execution_count": 6,
   "id": "85c5b4a8",
   "metadata": {},
   "outputs": [],
   "source": [
    "pipe = pickle.load(open('../pipeline/pipe.pkl', 'rb'))"
   ]
  },
  {
   "cell_type": "code",
   "execution_count": 37,
   "id": "a902252f",
   "metadata": {},
   "outputs": [],
   "source": [
    "testcase = pd.read_csv('../dataset/testcase.csv')"
   ]
  },
  {
   "cell_type": "code",
   "execution_count": 40,
   "id": "d38ec04c",
   "metadata": {},
   "outputs": [],
   "source": [
    "def replace_rare_categories(df):\n",
    "    df = df.copy()\n",
    "\n",
    "    df.iloc[:, 0] = np.where(df.iloc[:, 0].isin(['FV', 'RH', 'C (all)']), 'Others', df.iloc[:, 0])  \n",
    "    df.iloc[:, 3] = np.where(df.iloc[:, 3].isna() | (df.iloc[:, 3] == ''), 'None', df.iloc[:, 3])\n",
    "    df.iloc[:, 3] = np.where(df.iloc[:, 3].isin(['Grvl', 'Pave']), 'Others', df.iloc[:, 3])  \n",
    "    df.iloc[:, 6] = np.where(df.iloc[:, 6].isin(['SLvl', 'SFoyer', '1.5Unf', '2.5Unf', '2.5Fin']), 'Others', df.iloc[:, 6])  \n",
    "    df.iloc[:, 11] = np.where(df.iloc[:, 11].isin(['Flat', 'Gambrel', 'Mansard']), 'Others', df.iloc[:, 11])  \n",
    "    df.iloc[:, 12] = np.where(df.iloc[:, 12].isin(['AsbShng', 'AsphShn', 'BrkComm', 'BrkFace', 'CBlock', 'CemntBd', 'ImStucc', 'Other', 'PreCast', 'Stone', 'Stucco', 'WdShing']), 'Others', df.iloc[:, 12])  \n",
    "    df.iloc[:, 13] = np.where(df.iloc[:, 13].isin(['AsbShng', 'AsphShn', 'BrkComm', 'BrkFace', 'CBlock', 'CemntBd', 'ImStucc', 'Other', 'PreCast', 'Stone', 'Stucco', 'WdShing']), 'Others', df.iloc[:, 13])  \n",
    "    df.iloc[:, 17] = np.where(df.iloc[:, 17].isin(['Slab', 'Stone']), 'Others', df.iloc[:, 17])  \n",
    "    df.iloc[:, 36] = np.where(df.iloc[:, 36].isna() | (df.iloc[:, 36] == ''), 'None', df.iloc[:, 36]) \n",
    "    df.iloc[:, 36] = np.where(df.iloc[:, 36].isin(['Basement', 'CarPort']), 'Others', df.iloc[:, 36])  \n",
    "\n",
    "    return df\n"
   ]
  },
  {
   "cell_type": "code",
   "execution_count": 41,
   "id": "9556634c",
   "metadata": {},
   "outputs": [],
   "source": [
    "testcase = replace_rare_categories(testcase)"
   ]
  },
  {
   "cell_type": "code",
   "execution_count": 42,
   "id": "46929d19",
   "metadata": {},
   "outputs": [
    {
     "data": {
      "text/html": [
       "<div>\n",
       "<style scoped>\n",
       "    .dataframe tbody tr th:only-of-type {\n",
       "        vertical-align: middle;\n",
       "    }\n",
       "\n",
       "    .dataframe tbody tr th {\n",
       "        vertical-align: top;\n",
       "    }\n",
       "\n",
       "    .dataframe thead th {\n",
       "        text-align: right;\n",
       "    }\n",
       "</style>\n",
       "<table border=\"1\" class=\"dataframe\">\n",
       "  <thead>\n",
       "    <tr style=\"text-align: right;\">\n",
       "      <th></th>\n",
       "      <th>MSZoning</th>\n",
       "      <th>LotFrontage</th>\n",
       "      <th>LotArea</th>\n",
       "      <th>Alley</th>\n",
       "      <th>LotShape</th>\n",
       "      <th>Neighborhood</th>\n",
       "      <th>HouseStyle</th>\n",
       "      <th>OverallQual</th>\n",
       "      <th>OverallCond</th>\n",
       "      <th>YearBuilt</th>\n",
       "      <th>...</th>\n",
       "      <th>BedroomAbvGr</th>\n",
       "      <th>KitchenQual</th>\n",
       "      <th>TotRmsAbvGrd</th>\n",
       "      <th>Fireplaces</th>\n",
       "      <th>FireplaceQu</th>\n",
       "      <th>GarageType</th>\n",
       "      <th>GarageFinish</th>\n",
       "      <th>GarageCars</th>\n",
       "      <th>GarageArea</th>\n",
       "      <th>Fence</th>\n",
       "    </tr>\n",
       "  </thead>\n",
       "  <tbody>\n",
       "    <tr>\n",
       "      <th>0</th>\n",
       "      <td>Others</td>\n",
       "      <td>80.0</td>\n",
       "      <td>11622</td>\n",
       "      <td>None</td>\n",
       "      <td>Reg</td>\n",
       "      <td>NAmes</td>\n",
       "      <td>1Story</td>\n",
       "      <td>5</td>\n",
       "      <td>6</td>\n",
       "      <td>1961</td>\n",
       "      <td>...</td>\n",
       "      <td>2</td>\n",
       "      <td>TA</td>\n",
       "      <td>5</td>\n",
       "      <td>0</td>\n",
       "      <td>NaN</td>\n",
       "      <td>Attchd</td>\n",
       "      <td>Unf</td>\n",
       "      <td>1.0</td>\n",
       "      <td>730.0</td>\n",
       "      <td>MnPrv</td>\n",
       "    </tr>\n",
       "  </tbody>\n",
       "</table>\n",
       "<p>1 rows × 41 columns</p>\n",
       "</div>"
      ],
      "text/plain": [
       "  MSZoning  LotFrontage  LotArea Alley LotShape Neighborhood HouseStyle  \\\n",
       "0   Others         80.0    11622  None      Reg        NAmes     1Story   \n",
       "\n",
       "   OverallQual  OverallCond  YearBuilt  ...  BedroomAbvGr KitchenQual  \\\n",
       "0            5            6       1961  ...             2          TA   \n",
       "\n",
       "  TotRmsAbvGrd Fireplaces  FireplaceQu GarageType GarageFinish GarageCars  \\\n",
       "0            5          0          NaN     Attchd          Unf        1.0   \n",
       "\n",
       "  GarageArea  Fence  \n",
       "0      730.0  MnPrv  \n",
       "\n",
       "[1 rows x 41 columns]"
      ]
     },
     "execution_count": 42,
     "metadata": {},
     "output_type": "execute_result"
    }
   ],
   "source": [
    "testcase"
   ]
  },
  {
   "cell_type": "code",
   "execution_count": 43,
   "id": "2abbfae7",
   "metadata": {},
   "outputs": [
    {
     "data": {
      "text/plain": [
       "array([122060.91887091])"
      ]
     },
     "execution_count": 43,
     "metadata": {},
     "output_type": "execute_result"
    }
   ],
   "source": [
    "pipe.predict(testcase)"
   ]
  },
  {
   "cell_type": "code",
   "execution_count": null,
   "id": "9fd07759",
   "metadata": {},
   "outputs": [],
   "source": []
  }
 ],
 "metadata": {
  "kernelspec": {
   "display_name": "6.86x",
   "language": "python",
   "name": "python3"
  },
  "language_info": {
   "codemirror_mode": {
    "name": "ipython",
    "version": 3
   },
   "file_extension": ".py",
   "mimetype": "text/x-python",
   "name": "python",
   "nbconvert_exporter": "python",
   "pygments_lexer": "ipython3",
   "version": "3.8.20"
  }
 },
 "nbformat": 4,
 "nbformat_minor": 5
}
