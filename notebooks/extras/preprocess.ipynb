{
 "cells": [
  {
   "cell_type": "code",
   "execution_count": null,
   "id": "f7663217",
   "metadata": {},
   "outputs": [],
   "source": [
    "import pandas as pd"
   ]
  },
  {
   "cell_type": "code",
   "execution_count": null,
   "id": "a860a69c",
   "metadata": {},
   "outputs": [],
   "source": [
    "train = pd.read_csv('../../dataset/train_unprocessed.csv', index_col=0)\n",
    "test = pd.read_csv('../../dataset/test.csv', index_col=0)"
   ]
  },
  {
   "cell_type": "code",
   "execution_count": null,
   "id": "b03433a2",
   "metadata": {},
   "outputs": [],
   "source": [
    "df = train"
   ]
  },
  {
   "cell_type": "code",
   "execution_count": null,
   "id": "7fdecfb3",
   "metadata": {},
   "outputs": [],
   "source": [
    "df"
   ]
  },
  {
   "cell_type": "code",
   "execution_count": null,
   "id": "6b658c20",
   "metadata": {},
   "outputs": [],
   "source": [
    "df = df.drop(['Street', 'LandContour', 'Utilities', 'LandSlope', 'Condition1', 'Condition2', 'RoofMatl', 'MasVnrArea', 'BsmtCond', 'BsmtFinType2', 'BsmtFinSF2', 'Heating', 'Electrical', '2ndFlrSF', 'LowQualFinSF', 'BsmtHalfBath', 'Functional', 'GarageYrBlt', 'GarageQual', 'GarageCond', 'PavedDrive', 'WoodDeckSF', 'OpenPorchSF', 'EnclosedPorch', '3SsnPorch', 'ScreenPorch', 'PoolArea', 'PoolQC', 'MiscVal', 'SaleType', 'SaleCondition'], axis=1)"
   ]
  },
  {
   "cell_type": "code",
   "execution_count": null,
   "id": "a312566e",
   "metadata": {},
   "outputs": [],
   "source": [
    "df = df.drop(['MiscFeature', 'MSSubClass', 'KitchenAbvGr', 'MoSold', 'LotConfig', 'BldgType', 'YrSold'], axis=1)"
   ]
  },
  {
   "cell_type": "code",
   "execution_count": null,
   "id": "0c1d266b",
   "metadata": {},
   "outputs": [],
   "source": [
    "df.to_csv('dataset/train.csv')"
   ]
  },
  {
   "cell_type": "code",
   "execution_count": null,
   "id": "3776798d",
   "metadata": {},
   "outputs": [],
   "source": []
  },
  {
   "cell_type": "code",
   "execution_count": null,
   "id": "2926e4a5",
   "metadata": {},
   "outputs": [],
   "source": [
    "df['LotFrontage'] = df['LotFrontage'].fillna(0)\n",
    "df['BsmtQual'] = df['BsmtQual'].fillna('None')\n",
    "df['BsmtExposure'] = df['BsmtExposure'].fillna('No')\n",
    "df['BsmtFinType1'] = df['BsmtFinType1'].fillna('None')\n",
    "df['FireplaceQu'] = df['FireplaceQu'].fillna('None')\n",
    "df['GarageType'] = df['GarageType'].fillna('None')\n",
    "df['GarageFinish'] = df['GarageFinish'].fillna('None')\n",
    "df['Fence'] = df['Fence'].fillna('None')\n",
    "df['BsmtFinType1'] = df['BsmtFinType1'].fillna('None')\n",
    "df['Alley'] = df['Alley'].fillna('None')\n",
    "df['MasVnrType'] = df['MasVnrType'].fillna('None')\n"
   ]
  },
  {
   "cell_type": "code",
   "execution_count": null,
   "id": "f1ee2611",
   "metadata": {},
   "outputs": [],
   "source": [
    "df['Exterior1st'].groupby(df['Exterior1st']).value_counts()"
   ]
  },
  {
   "cell_type": "code",
   "execution_count": null,
   "id": "9a43d533",
   "metadata": {},
   "outputs": [],
   "source": [
    "LotShape_order = {'Reg': 3, 'IR1': 2, 'IR2': 1, 'IR3': 0}\n",
    "ExterQual_order = {'Ex': 4, 'Gd': 3, 'TA': 2, 'Fa': 1, 'Po': 0}\n",
    "ExterCond_order = {'Ex': 4, 'Gd': 3, 'TA': 2, 'Fa': 1, 'Po': 0}\n",
    "BsmtQual_order = {'Ex': 5, 'Gd': 4, 'TA': 3, 'Fa': 2, 'Po': 1, 'None': 0}\n",
    "BsmtExposure_order = {'Gd': 3, 'Av': 2, 'Mn': 1, 'No': 0}\n",
    "HeatingQC_order = {'Ex': 4, 'Gd': 3, 'TA': 2, 'Fa': 1, 'Po': 0}\n",
    "CentralAir_order = {'Y': 1, 'N': 0}\n",
    "KitchenQual_order = {'Ex': 4, 'Gd': 3, 'TA': 2, 'Fa': 1, 'Po': 0}\n",
    "FireplaceQu_order = {'Ex': 5, 'Gd': 4, 'TA': 3, 'Fa': 2, 'Po': 1, 'None': 0}\n",
    "GarageFinish = {'Fin': 3, 'RFn': 2, 'Unf': 1, 'None': 0}\n",
    "\n",
    "df['LotShape'] = df['LotShape'].map(LotShape_order)\n",
    "df['ExterQual'] = df['ExterQual'].map(ExterQual_order)\n",
    "df['ExterCond'] = df['ExterCond'].map(ExterCond_order)\n",
    "df['BsmtQual'] = df['BsmtQual'].map(BsmtQual_order)\n",
    "df['BsmtExposure'] = df['BsmtExposure'].map(BsmtExposure_order)\n",
    "df['HeatingQC'] = df['HeatingQC'].map(HeatingQC_order)\n",
    "df['CentralAir'] = df['CentralAir'].map(CentralAir_order)\n",
    "df['KitchenQual'] = df['KitchenQual'].map(KitchenQual_order)\n",
    "df['FireplaceQu'] = df['FireplaceQu'].map(FireplaceQu_order)\n",
    "df['GarageFinish'] = df['GarageFinish'].map(GarageFinish)\n"
   ]
  },
  {
   "cell_type": "code",
   "execution_count": null,
   "id": "e4c9e521",
   "metadata": {},
   "outputs": [],
   "source": [
    "df['MSZoning'] = df['MSZoning'].replace(['FV', 'RH', 'C (all)'], 'Others')\n",
    "df['Alley'] = df['Alley'].replace(['Grvl', 'Pave'], 'Others')\n",
    "df['HouseStyle'] = df['HouseStyle'].replace(['SLvl', 'SFoyer', '1.5Unf', '2.5Unf', '2.5Fin'], 'Others') \n",
    "df['RoofStyle'] = df['RoofStyle'].replace(['Flat', 'Gambrel', 'Mansard'], 'Others') \n",
    "df['Exterior1st'] = df['Exterior1st'].replace(['AsbShng', 'AsphShn', 'BrkComm', 'BrkFace', 'CBlock', 'CemntBd', 'ImStucc', 'Other', 'PreCast', 'Stone', 'Stucco', 'WdShing'], 'Others') \n",
    "df['Exterior2nd'] = df['Exterior2nd'].replace(['AsbShng', 'AsphShn', 'BrkComm', 'BrkFace', 'CBlock', 'CemntBd', 'ImStucc', 'Other', 'PreCast', 'Stone', 'Stucco', 'WdShing'], 'Others') \n",
    "df['Foundation'] = df['Foundation'].replace(['Slab', 'Stone'], 'Others')\n",
    "df['GarageType'] = df['GarageType'].replace(['Basement', 'CarPort'], 'Others')\n"
   ]
  },
  {
   "cell_type": "code",
   "execution_count": null,
   "id": "39c0ebfa",
   "metadata": {},
   "outputs": [],
   "source": [
    "import numpy as np\n",
    "from sklearn.compose import ColumnTransformer\n",
    "from sklearn.preprocessing import OneHotEncoder"
   ]
  },
  {
   "cell_type": "code",
   "execution_count": null,
   "id": "ecca5a0d",
   "metadata": {},
   "outputs": [],
   "source": [
    "df['your_column'] = df['your_column'].astype('object')\n"
   ]
  },
  {
   "cell_type": "code",
   "execution_count": null,
   "id": "4e56ab69",
   "metadata": {},
   "outputs": [],
   "source": [
    "transformer = ColumnTransformer(transformers=[\n",
    "    ('onehot', OneHotEncoder(sparse=False, drop='first'), ['MSZoning', 'Alley', 'Neighborhood', 'HouseStyle', 'RoofStyle', 'Exterior1st', 'Exterior2nd', 'MasVnrType', 'Foundation', 'GarageType'])\n",
    "], remainder='passthrough')"
   ]
  },
  {
   "cell_type": "code",
   "execution_count": null,
   "id": "fe489f6e",
   "metadata": {},
   "outputs": [],
   "source": [
    "transformer.fit_transform(df)"
   ]
  },
  {
   "cell_type": "code",
   "execution_count": null,
   "id": "efbbfb61",
   "metadata": {},
   "outputs": [],
   "source": [
    "def one_hot_encode(df, cols_to_encode, target='SalePrice'):\n",
    "    dummies = pd.get_dummies(df[cols_to_encode], prefix=cols_to_encode, dtype=int, drop_first=True)\n",
    "\n",
    "    df = df.drop(columns=cols_to_encode)\n",
    "    df = pd.concat([df, dummies], axis=1)\n",
    "    if target in df.columns:\n",
    "        df[target] = df.pop(target)\n",
    "\n",
    "    return df\n",
    "\n",
    "cols = ['MSZoning', 'Alley', 'Neighborhood', 'HouseStyle', 'RoofStyle', 'Exterior1st', 'Exterior2nd', 'MasVnrType', 'Foundation', 'GarageType', 'BsmtFinType1', 'Fence']\n",
    "df = one_hot_encode(df, cols)\n"
   ]
  },
  {
   "cell_type": "code",
   "execution_count": null,
   "id": "7d7f9dea",
   "metadata": {},
   "outputs": [],
   "source": [
    "df"
   ]
  },
  {
   "cell_type": "code",
   "execution_count": null,
   "id": "280ccc31",
   "metadata": {},
   "outputs": [],
   "source": [
    "from sklearn.preprocessing import StandardScaler\n",
    "\n",
    "\n",
    "def standardize_features(df, target='SalePrice'):\n",
    "    y = df.pop(target)\n",
    "\n",
    "    scaler = StandardScaler()\n",
    "    X_scaled = scaler.fit_transform(df)\n",
    "\n",
    "    df_scaled = pd.DataFrame(X_scaled, columns=df.columns, index=df.index)\n",
    "    df_scaled[target] = y\n",
    "\n",
    "    return df_scaled\n",
    "\n",
    "df = standardize_features(df)"
   ]
  },
  {
   "cell_type": "code",
   "execution_count": null,
   "id": "2611646a",
   "metadata": {},
   "outputs": [],
   "source": [
    "df.to_csv('dataset/train.csv')"
   ]
  }
 ],
 "metadata": {
  "kernelspec": {
   "display_name": "6.86x",
   "language": "python",
   "name": "python3"
  },
  "language_info": {
   "codemirror_mode": {
    "name": "ipython",
    "version": 3
   },
   "file_extension": ".py",
   "mimetype": "text/x-python",
   "name": "python",
   "nbconvert_exporter": "python",
   "pygments_lexer": "ipython3",
   "version": "3.8.20"
  }
 },
 "nbformat": 4,
 "nbformat_minor": 5
}
