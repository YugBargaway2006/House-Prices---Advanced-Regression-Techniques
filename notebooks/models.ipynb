{
 "cells": [
  {
   "cell_type": "code",
   "execution_count": null,
   "id": "728a5f3d",
   "metadata": {},
   "outputs": [],
   "source": [
    "import numpy as np\n",
    "import pandas as pd"
   ]
  },
  {
   "cell_type": "code",
   "execution_count": null,
   "id": "a06d4ee8",
   "metadata": {},
   "outputs": [],
   "source": [
    "# X_train, y_train, X_test are numpy arrays. Returning y_pred is also numpy array.\n",
    "\n",
    "class SelfSimpleLinearRegression():\n",
    "\n",
    "    def __init__(self):\n",
    "        self.m = None\n",
    "        self.b = None\n",
    "\n",
    "\n",
    "    def fit(self, X_train, y_train):\n",
    "        num = 0\n",
    "        den = 0\n",
    "\n",
    "        for i in range(X_train.shape):\n",
    "            num += (X_train[i] - X_train.mean()) * (y_train[i] - y_train.mean())\n",
    "            den += (X_train[i] - X_train.mean()) * (X_train[i] - X_train.mean())\n",
    "\n",
    "        self.m = num / den\n",
    "        self.b = y_train.mean() - (self.m * X_train.mean())\n",
    "\n",
    "        return self.m, self.b\n",
    "\n",
    "\n",
    "    def predict(self, X_test):\n",
    "        return self.m * X_test + self.b\n",
    "    "
   ]
  },
  {
   "cell_type": "code",
   "execution_count": null,
   "id": "fe22a00a",
   "metadata": {},
   "outputs": [],
   "source": []
  },
  {
   "cell_type": "code",
   "execution_count": null,
   "id": "653dd59c",
   "metadata": {},
   "outputs": [],
   "source": []
  }
 ],
 "metadata": {
  "kernelspec": {
   "display_name": "6.86x",
   "language": "python",
   "name": "python3"
  },
  "language_info": {
   "codemirror_mode": {
    "name": "ipython",
    "version": 3
   },
   "file_extension": ".py",
   "mimetype": "text/x-python",
   "name": "python",
   "nbconvert_exporter": "python",
   "pygments_lexer": "ipython3",
   "version": "3.8.20"
  }
 },
 "nbformat": 4,
 "nbformat_minor": 5
}
